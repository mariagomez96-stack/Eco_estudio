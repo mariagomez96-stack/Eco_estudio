{
 "cells": [
  {
   "cell_type": "code",
   "execution_count": null,
   "id": "4a475490-715b-47c7-8ef2-d211d73a07e5",
   "metadata": {},
   "outputs": [],
   "source": [
    "import pandas as pd\n",
    "import numpy as np"
   ]
  },
  {
   "cell_type": "code",
   "execution_count": null,
   "id": "2d3a23c8-af39-4546-9b21-5d574def2510",
   "metadata": {},
   "outputs": [],
   "source": [
    "# Visualizaciones\n",
    "import plotly.express as px\n",
    "import plotly.subplots as sp\n",
    "import plotly.graph_objects as go\n",
    "# Visualizaciones de mapas\n",
    "import folium\n",
    "from geopy.distance import geodesic\n",
    "from geopy.geocoders import Nominatim"
   ]
  },
  {
   "cell_type": "code",
   "execution_count": null,
   "id": "5f0629e9-2768-4c6d-820f-de8b27f4bd10",
   "metadata": {},
   "outputs": [],
   "source": [
    "df_gasolineras = pd.read_csv('gasolineras_españa.csv')"
   ]
  },
  {
   "cell_type": "code",
   "execution_count": null,
   "id": "7213758e-17c9-4eb9-8ab0-e083f129ccfc",
   "metadata": {},
   "outputs": [],
   "source": [
    "df_gasolineras.info()"
   ]
  },
  {
   "cell_type": "markdown",
   "id": "e41f92c6-0c30-4a65-b08c-5558b256cbf3",
   "metadata": {},
   "source": [
    "### ALGORITMO MAPA GASOLINERAS"
   ]
  },
  {
   "cell_type": "code",
   "execution_count": null,
   "id": "f62fb5eb-ab46-49d1-8fd7-851b90631295",
   "metadata": {},
   "outputs": [],
   "source": [
    "def funcion_folium_cp_radio_gasolineras(cp,radio):\n",
    "# Define el nombre de tu aplicación o proyecto\n",
    "    nombre_app = \"Mi Aplicación de Geolocalización\"\n",
    "    \n",
    "    # Crea una instancia del geolocalizador y proporciona el nombre de tu aplicación como user_agent\n",
    "    geolocator = Nominatim(user_agent=nombre_app)\n",
    "    \n",
    "    direccion = f\"{str(cp)}, España\"\n",
    "    # Obtener las coordenadas de la dirección\n",
    "    location = geolocator.geocode(direccion)\n",
    "    \n",
    "    # Imprimir las coordenadas\n",
    "    if location:\n",
    "        localizacion_inicial = [location.latitude, location.longitude]\n",
    "\n",
    "    else:\n",
    "        print(\"La dirección no se encontró.\")\n",
    "\n",
    "    # Crear un mapa centrado en las coordenadas iniciales\n",
    "    mapa = folium.Map(location=localizacion_inicial, zoom_start=13)\n",
    "\n",
    "    # Iterar sobre las filas del DataFrame y agregar marcadores al mapa\n",
    "    for index, row in df_gasolineras.iterrows():\n",
    "        coordenadas_punto = (row['Latitud'], row['Longitud'])\n",
    "        distancia = geodesic(localizacion_inicial, coordenadas_punto).kilometers\n",
    "\n",
    "  \n",
    "        html_popup = f'''\n",
    "                <div style=\"min-width: 600px; max-width: 600px; font-size: 16px;\">\n",
    "                    <p><strong>Dirección:</strong> {str(row[\"Dirección\"])}</p>\n",
    "                    <p><strong>Localidad:</strong> {str(row[\"Localidad\"])}</p>\n",
    "                    <p><strong>Provincia:</strong> {str(row[\"Provincia\"])}</p>\n",
    "                    <p><strong>Distancia a tu ubicación:</strong> {distancia:.2f} km</p>\n",
    "                /div>\n",
    "            '''\n",
    "        \n",
    "        #Agregar marcador solo si la distancia es menor o igual a 1 km\n",
    "        if distancia <= radio:\n",
    "\n",
    "            folium.Marker(location=coordenadas_punto, popup=folium.Popup(html=html_popup),  icon=folium.Icon(icon='star')).add_to(mapa)\n",
    "\n",
    "        else:        \n",
    "            if distancia <= radio:\n",
    "                folium.Marker(location=coordenadas_punto, popup=folium.Popup(html=html_popup)).add_to(mapa)\n",
    "\n",
    "    return mapa"
   ]
  },
  {
   "cell_type": "code",
   "execution_count": null,
   "id": "45ddd1ca-39fb-4f95-9093-106a003a31c7",
   "metadata": {},
   "outputs": [],
   "source": [
    "input_cp_usuario = \"28001\"\n",
    "input_radio = 100"
   ]
  },
  {
   "cell_type": "code",
   "execution_count": null,
   "id": "70249971-e761-4ad4-b367-d615d1c9c217",
   "metadata": {},
   "outputs": [],
   "source": [
    "funcion_folium_cp_radio_gasolineras(input_cp_usuario, input_radio)"
   ]
  }
 ],
 "metadata": {
  "kernelspec": {
   "display_name": "Python 3 (ipykernel)",
   "language": "python",
   "name": "python3"
  },
  "language_info": {
   "codemirror_mode": {
    "name": "ipython",
    "version": 3
   },
   "file_extension": ".py",
   "mimetype": "text/x-python",
   "name": "python",
   "nbconvert_exporter": "python",
   "pygments_lexer": "ipython3",
   "version": "3.11.4"
  }
 },
 "nbformat": 4,
 "nbformat_minor": 5
}
