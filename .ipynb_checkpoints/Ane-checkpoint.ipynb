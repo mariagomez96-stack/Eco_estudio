{
 "cells": [
  {
   "cell_type": "markdown",
   "id": "d3d290bb",
   "metadata": {},
   "source": [
    "### LIBRERÍAS"
   ]
  },
  {
   "cell_type": "code",
   "execution_count": 3,
   "id": "20e11c1e-d2fa-4277-9ae4-1fa0151f83ee",
   "metadata": {},
   "outputs": [],
   "source": [
    "# Procesamiento\n",
    "import numpy as np\n",
    "import pandas as pd\n",
    "import os\n",
    "\n",
    "# API y web scraping\n",
    "from time import sleep\n",
    "\n",
    "import requests\n",
    "from tqdm import tqdm\n",
    "\n",
    "from selenium import webdriver\n",
    "from selenium.webdriver.common.by import By"
   ]
  },
  {
   "cell_type": "markdown",
   "id": "d4613958",
   "metadata": {},
   "source": [
    "### WEB SCRAPING IDAE"
   ]
  },
  {
   "cell_type": "markdown",
   "id": "18e4b69b",
   "metadata": {},
   "source": [
    "Fuente: https://coches.idae.es/base-datos"
   ]
  },
  {
   "cell_type": "code",
   "execution_count": 3,
   "id": "8d5d5509",
   "metadata": {},
   "outputs": [],
   "source": [
    "def inicio_scraping(endpoint):\n",
    "    ### Driver\n",
    "    chrome_driver = \"chromedriver.exe\"\n",
    "\n",
    "    ### SE ABRE ENLACE\n",
    "    browser = webdriver.Chrome()\n",
    "\n",
    "    browser.get(endpoint)\n",
    "\n",
    "    browser.maximize_window()\n",
    "    sleep(1)\n",
    "\n",
    "    ### SE LE DA AL BOTON DE BUSCAR\n",
    "    browser.find_element(by = By.CSS_SELECTOR, value = \"body > div.container-fluid > div.row > div.col-lg-9.col-md-12 > form > div.col.col-12.text-center > button\").click()\n",
    "    sleep(1)\n",
    "\n",
    "    return browser"
   ]
  },
  {
   "cell_type": "markdown",
   "id": "726991aa",
   "metadata": {},
   "source": [
    "**Vehículos elegibles Programa MOVES III**"
   ]
  },
  {
   "cell_type": "code",
   "execution_count": 15,
   "id": "eedd487e",
   "metadata": {},
   "outputs": [],
   "source": [
    "endpoint = \"https://coches.idae.es/base-datos/vehiculos-elegibles-programa-MOVES-III\""
   ]
  },
  {
   "cell_type": "code",
   "execution_count": 17,
   "id": "c887ac51",
   "metadata": {},
   "outputs": [],
   "source": [
    "browser = inicio_scraping(endpoint)\n",
    "\n",
    "# REALIZAR SCROLL HASTA EL FINAL DE LA PÁGINA\n",
    "browser.execute_script(\"window.scrollTo(0, document.body.scrollHeight);\")\n",
    "sleep(1)\n",
    "\n",
    "### SE LE DA AL BOTON DE EXTRAER EN CSV/EXCELL\n",
    "browser.find_element(by = By.CSS_SELECTOR, value = \"#nedc > p > button.btn.btn-primary.btnExportarCSV.mr-3\").click()\n",
    "sleep(5)\n",
    "\n",
    "# CERRAR EL NAVEGADOR\n",
    "browser.quit()"
   ]
  },
  {
   "cell_type": "markdown",
   "id": "d30bfcfd",
   "metadata": {},
   "source": [
    "**WPLT**"
   ]
  },
  {
   "cell_type": "code",
   "execution_count": 4,
   "id": "8e1f8834",
   "metadata": {},
   "outputs": [],
   "source": [
    "endpoint = \"https://coches.idae.es/base-datos/marca-y-modelo\""
   ]
  },
  {
   "cell_type": "code",
   "execution_count": null,
   "id": "3bdd39f4",
   "metadata": {},
   "outputs": [],
   "source": [
    "browser = inicio_scraping(endpoint)\n",
    "\n",
    "### SE CARGA EL DESPLEGABLE\n",
    "browser.find_element(by = By.CSS_SELECTOR, value = \"#datos_wltp_length > label > select\").click()\n",
    "sleep(1)\n",
    "\n",
    "### SELECCIONAR 100\n",
    "browser.find_element(by = By.CSS_SELECTOR, value = \"#datos_wltp_length > label > select > option:nth-child(4)\").click()\n",
    "sleep(1)\n",
    "\n",
    "### DESCARGAR Y PASAR DE PAGINA\n",
    "for pagina in range(1,169):\n",
    "    # SCROLL ARRIBA DEL TODO\n",
    "    browser.execute_script(\"window.scrollTo(0, 0);\")\n",
    "    sleep(1)\n",
    "    # PULSAR DESCARGAR CSV\n",
    "    browser.find_element(by = By.CSS_SELECTOR, value = \"#datos_wltp_wrapper > div.dt-buttons > button.dt-button.buttons-csv.buttons-html5.btn.btn-primary.btn-sm.mb-2\").click()\n",
    "    sleep(1)\n",
    "    # REALIZAR SCROLL HASTA EL FINAL DE LA PÁGINA\n",
    "    browser.execute_script(\"window.scrollTo(0, document.body.scrollHeight);\")\n",
    "    sleep(1)\n",
    "    # AVANZAR DE PÁGINA\n",
    "    browser.find_element(by = By.CSS_SELECTOR, value = \"#datos_wltp_next > a\").click()\n",
    "    sleep(2)\n",
    "\n",
    "# Continúa con lo siguiente"
   ]
  },
  {
   "cell_type": "markdown",
   "id": "94b065f7",
   "metadata": {},
   "source": [
    "**Consumo eléctrico**"
   ]
  },
  {
   "cell_type": "code",
   "execution_count": null,
   "id": "3807de77",
   "metadata": {},
   "outputs": [],
   "source": [
    "# SCROLL ARRIBA DEL TODO\n",
    "browser.execute_script(\"window.scrollTo(0, 0);\")\n",
    "\n",
    "# SELECCION DE CONSUMO ELÉCTRICO\n",
    "browser.find_element(by = By.CSS_SELECTOR, value = \"#elec-tab\").click()\n",
    "sleep(1)\n",
    "\n",
    "# SCROLL UN POCO HACIA ABAJO\n",
    "browser.execute_script(\"window.scrollTo(0, window.scrollY + 100);\")  # Ajusta el valor (100 en este caso) según sea necesario\n",
    "sleep(1)\n",
    "\n",
    "### SE CARGA EL DESPLEGABLE\n",
    "browser.find_element(by = By.CSS_SELECTOR, value = \"#datos_elec_length > label > select\").click()\n",
    "sleep(1)\n",
    "\n",
    "### SELECCIONAR 100\n",
    "browser.find_element(by = By.CSS_SELECTOR, value = \"#datos_elec_length > label > select > option:nth-child(4)\").click()\n",
    "sleep(1)\n",
    "\n",
    "### DESCARGAR Y PASAR DE PAGINA\n",
    "for pagina in range(1,169):\n",
    "\n",
    "    # SCROLL ARRIBA DEL TODO\n",
    "    browser.execute_script(\"window.scrollTo(0, 0);\")\n",
    "    sleep(1)\n",
    "    # PULSAR DESCARGAR CSV\n",
    "    browser.find_element(by = By.CSS_SELECTOR, value = \"#datos_elec_wrapper > div.dt-buttons > button.dt-button.buttons-csv.buttons-html5.btn.btn-primary.btn-sm.mb-2\").click()\n",
    "    sleep(1)\n",
    "    # REALIZAR SCROLL HASTA EL FINAL DE LA PÁGINA\n",
    "    browser.execute_script(\"window.scrollTo(0, document.body.scrollHeight);\")\n",
    "    sleep(1)\n",
    "    # AVANZAR DE PÁGINA\n",
    "    browser.find_element(by = By.CSS_SELECTOR, value = \"#datos_elec_next > a\").click()\n",
    "    sleep(2)\n",
    "\n",
    "# CERRAR EL NAVEGADOR\n",
    "browser.quit()"
   ]
  },
  {
   "cell_type": "markdown",
   "id": "78d20851",
   "metadata": {},
   "source": [
    "### API OPEN CHARGE MAP"
   ]
  },
  {
   "cell_type": "markdown",
   "id": "b997f80e",
   "metadata": {},
   "source": [
    "**Extracción de códigos postales de España**\n",
    "\n",
    "Fuente: https://github.com/inigoflores/ds-codigos-postales-ine-es/blob/master/data/codigos_postales_municipios.csv"
   ]
  },
  {
   "cell_type": "code",
   "execution_count": 24,
   "id": "93fea4f1",
   "metadata": {},
   "outputs": [],
   "source": [
    "df = pd.read_csv('./Data/codigos_postales_municipios.csv', dtype={'codigo_postal': str})"
   ]
  },
  {
   "cell_type": "code",
   "execution_count": 25,
   "id": "34c9fc9b",
   "metadata": {},
   "outputs": [
    {
     "data": {
      "text/html": [
       "<div>\n",
       "<style scoped>\n",
       "    .dataframe tbody tr th:only-of-type {\n",
       "        vertical-align: middle;\n",
       "    }\n",
       "\n",
       "    .dataframe tbody tr th {\n",
       "        vertical-align: top;\n",
       "    }\n",
       "\n",
       "    .dataframe thead th {\n",
       "        text-align: right;\n",
       "    }\n",
       "</style>\n",
       "<table border=\"1\" class=\"dataframe\">\n",
       "  <thead>\n",
       "    <tr style=\"text-align: right;\">\n",
       "      <th></th>\n",
       "      <th>codigo_postal</th>\n",
       "      <th>municipio_id</th>\n",
       "      <th>municipio_nombre</th>\n",
       "    </tr>\n",
       "  </thead>\n",
       "  <tbody>\n",
       "    <tr>\n",
       "      <th>0</th>\n",
       "      <td>00043</td>\n",
       "      <td>43110</td>\n",
       "      <td>Pobla de Massaluca, La</td>\n",
       "    </tr>\n",
       "    <tr>\n",
       "      <th>1</th>\n",
       "      <td>00085</td>\n",
       "      <td>49064</td>\n",
       "      <td>Fariza</td>\n",
       "    </tr>\n",
       "    <tr>\n",
       "      <th>2</th>\n",
       "      <td>00633</td>\n",
       "      <td>26005</td>\n",
       "      <td>Albelda de Iregua</td>\n",
       "    </tr>\n",
       "    <tr>\n",
       "      <th>3</th>\n",
       "      <td>01001</td>\n",
       "      <td>1059</td>\n",
       "      <td>Vitoria-Gasteiz</td>\n",
       "    </tr>\n",
       "    <tr>\n",
       "      <th>4</th>\n",
       "      <td>01002</td>\n",
       "      <td>1059</td>\n",
       "      <td>Vitoria-Gasteiz</td>\n",
       "    </tr>\n",
       "    <tr>\n",
       "      <th>...</th>\n",
       "      <td>...</td>\n",
       "      <td>...</td>\n",
       "      <td>...</td>\n",
       "    </tr>\n",
       "    <tr>\n",
       "      <th>14603</th>\n",
       "      <td>52002</td>\n",
       "      <td>52001</td>\n",
       "      <td>Melilla</td>\n",
       "    </tr>\n",
       "    <tr>\n",
       "      <th>14604</th>\n",
       "      <td>52003</td>\n",
       "      <td>52001</td>\n",
       "      <td>Melilla</td>\n",
       "    </tr>\n",
       "    <tr>\n",
       "      <th>14605</th>\n",
       "      <td>52004</td>\n",
       "      <td>52001</td>\n",
       "      <td>Melilla</td>\n",
       "    </tr>\n",
       "    <tr>\n",
       "      <th>14606</th>\n",
       "      <td>52005</td>\n",
       "      <td>52001</td>\n",
       "      <td>Melilla</td>\n",
       "    </tr>\n",
       "    <tr>\n",
       "      <th>14607</th>\n",
       "      <td>52006</td>\n",
       "      <td>52001</td>\n",
       "      <td>Melilla</td>\n",
       "    </tr>\n",
       "  </tbody>\n",
       "</table>\n",
       "<p>14608 rows × 3 columns</p>\n",
       "</div>"
      ],
      "text/plain": [
       "      codigo_postal  municipio_id        municipio_nombre\n",
       "0             00043         43110  Pobla de Massaluca, La\n",
       "1             00085         49064                  Fariza\n",
       "2             00633         26005       Albelda de Iregua\n",
       "3             01001          1059         Vitoria-Gasteiz\n",
       "4             01002          1059         Vitoria-Gasteiz\n",
       "...             ...           ...                     ...\n",
       "14603         52002         52001                 Melilla\n",
       "14604         52003         52001                 Melilla\n",
       "14605         52004         52001                 Melilla\n",
       "14606         52005         52001                 Melilla\n",
       "14607         52006         52001                 Melilla\n",
       "\n",
       "[14608 rows x 3 columns]"
      ]
     },
     "execution_count": 25,
     "metadata": {},
     "output_type": "execute_result"
    }
   ],
   "source": [
    "df"
   ]
  },
  {
   "cell_type": "markdown",
   "id": "091adacd",
   "metadata": {},
   "source": [
    "**Repartición de peticiones**"
   ]
  },
  {
   "cell_type": "code",
   "execution_count": 28,
   "id": "63981370",
   "metadata": {},
   "outputs": [],
   "source": [
    "ana = df[\"codigo_postal\"][:3653].to_list()\n",
    "kevin = df[\"codigo_postal\"][3653:7305].to_list()\n",
    "cristian = df[\"codigo_postal\"][7305:10957].to_list()\n",
    "daniel = df[\"codigo_postal\"][10957:14609].to_list()"
   ]
  },
  {
   "cell_type": "code",
   "execution_count": 31,
   "id": "32303b36",
   "metadata": {},
   "outputs": [
    {
     "name": "stderr",
     "output_type": "stream",
     "text": [
      "100%|██████████| 3653/3653 [1:28:10<00:00,  1.45s/it]   \n"
     ]
    }
   ],
   "source": [
    "diccionario = {}\n",
    "\n",
    "### Bucle que controla el tiempo de ejecución a la vez que entra en el endpoint del código postal correspondiente\n",
    "for codigo in tqdm(ana):\n",
    "    # Construcción del endpoint\n",
    "    url = \"https://api.openchargemap.io/v3/poi/\"\n",
    "    parametros = {\n",
    "                    \"output\": \"json\",\n",
    "                    \"countrycode\": \"ES\",\n",
    "                    \"maxresults\": 500,\n",
    "                    \"postalcode\": codigo,\n",
    "                    \"key\": \"\"  # Tu clave aquí\n",
    "                }\n",
    "    \n",
    "    try:\n",
    "        # Petición\n",
    "        respuesta = requests.get(url, params=parametros)\n",
    "        respuesta.raise_for_status()  # Lanza una excepción si la solicitud falla\n",
    "\n",
    "        # Extrayendo toda la información\n",
    "        datos = respuesta.json()\n",
    "        diccionario[codigo] = datos\n",
    "\n",
    "    except requests.exceptions.RequestException as e:\n",
    "        print(\"Error al hacer la solicitud:\", e)\n",
    "\n",
    "# Creación de un df para guardar la información extraida y no perderla\n",
    "df = pd.DataFrame(diccionario)\n",
    "\n",
    "df.to_csv(\"./Data/ana.csv\")"
   ]
  },
  {
   "cell_type": "code",
   "execution_count": 32,
   "id": "03e588ff",
   "metadata": {},
   "outputs": [
    {
     "data": {
      "text/plain": [
       "(500, 2750)"
      ]
     },
     "execution_count": 32,
     "metadata": {},
     "output_type": "execute_result"
    }
   ],
   "source": [
    "df.shape"
   ]
  },
  {
   "cell_type": "markdown",
   "id": "63923634",
   "metadata": {},
   "source": [
    "**Concatenación por filas de csv scrapeados**"
   ]
  },
  {
   "cell_type": "code",
   "execution_count": 109,
   "id": "372ca213",
   "metadata": {},
   "outputs": [],
   "source": [
    "def concatenar(ruta_carpeta):\n",
    "    # Ruta de la carpeta que contiene los archivos CSV\n",
    "    carpeta = ruta_carpeta\n",
    "\n",
    "    # Obtener la lista de archivos en la carpeta\n",
    "    archivos_csv = [archivo for archivo in os.listdir(carpeta) if archivo.endswith('.csv')]\n",
    "\n",
    "    # Leer y concatenar los archivos CSV\n",
    "    datos_concatenados = pd.concat([pd.read_csv(os.path.join(carpeta, archivo)) for archivo in archivos_csv], ignore_index=True)\n",
    "\n",
    "    return datos_concatenados"
   ]
  },
  {
   "cell_type": "code",
   "execution_count": 110,
   "id": "32083302",
   "metadata": {},
   "outputs": [],
   "source": [
    "wplt = concatenar(\"../data/wplt/\")"
   ]
  },
  {
   "cell_type": "code",
   "execution_count": 150,
   "id": "19b1557b",
   "metadata": {},
   "outputs": [
    {
     "data": {
      "text/html": [
       "<div>\n",
       "<style scoped>\n",
       "    .dataframe tbody tr th:only-of-type {\n",
       "        vertical-align: middle;\n",
       "    }\n",
       "\n",
       "    .dataframe tbody tr th {\n",
       "        vertical-align: top;\n",
       "    }\n",
       "\n",
       "    .dataframe thead th {\n",
       "        text-align: right;\n",
       "    }\n",
       "</style>\n",
       "<table border=\"1\" class=\"dataframe\">\n",
       "  <thead>\n",
       "    <tr style=\"text-align: right;\">\n",
       "      <th></th>\n",
       "      <th>Modelo</th>\n",
       "      <th>Clasificación Energética</th>\n",
       "      <th>Consumo Mínimo</th>\n",
       "      <th>Consumo Máximo</th>\n",
       "      <th>Emisiones Mínimo</th>\n",
       "      <th>Emisiones Máximo</th>\n",
       "    </tr>\n",
       "  </thead>\n",
       "  <tbody>\n",
       "    <tr>\n",
       "      <th>0</th>\n",
       "      <td>ALKE ATX 340 EDH Litio 20kwh</td>\n",
       "      <td>NaN</td>\n",
       "      <td>NaN</td>\n",
       "      <td>NaN</td>\n",
       "      <td>NaN</td>\n",
       "      <td>NaN</td>\n",
       "    </tr>\n",
       "    <tr>\n",
       "      <th>1</th>\n",
       "      <td>ALKE ATX 340 EDH plomo acido</td>\n",
       "      <td>NaN</td>\n",
       "      <td>NaN</td>\n",
       "      <td>NaN</td>\n",
       "      <td>NaN</td>\n",
       "      <td>NaN</td>\n",
       "    </tr>\n",
       "    <tr>\n",
       "      <th>2</th>\n",
       "      <td>ALKE ATX 340 EH Litio 10 kwh</td>\n",
       "      <td>NaN</td>\n",
       "      <td>NaN</td>\n",
       "      <td>NaN</td>\n",
       "      <td>NaN</td>\n",
       "      <td>NaN</td>\n",
       "    </tr>\n",
       "    <tr>\n",
       "      <th>3</th>\n",
       "      <td>ALKE ATX 340 EH Litio 20kwh</td>\n",
       "      <td>NaN</td>\n",
       "      <td>NaN</td>\n",
       "      <td>NaN</td>\n",
       "      <td>NaN</td>\n",
       "      <td>NaN</td>\n",
       "    </tr>\n",
       "    <tr>\n",
       "      <th>4</th>\n",
       "      <td>ALKE ATX 340 EH plomo acido</td>\n",
       "      <td>NaN</td>\n",
       "      <td>NaN</td>\n",
       "      <td>NaN</td>\n",
       "      <td>NaN</td>\n",
       "      <td>NaN</td>\n",
       "    </tr>\n",
       "  </tbody>\n",
       "</table>\n",
       "</div>"
      ],
      "text/plain": [
       "                         Modelo  Clasificación Energética  Consumo Mínimo  \\\n",
       "0  ALKE ATX 340 EDH Litio 20kwh                       NaN             NaN   \n",
       "1  ALKE ATX 340 EDH plomo acido                       NaN             NaN   \n",
       "2  ALKE ATX 340 EH Litio 10 kwh                       NaN             NaN   \n",
       "3   ALKE ATX 340 EH Litio 20kwh                       NaN             NaN   \n",
       "4   ALKE ATX 340 EH plomo acido                       NaN             NaN   \n",
       "\n",
       "   Consumo Máximo  Emisiones Mínimo  Emisiones Máximo  \n",
       "0             NaN               NaN               NaN  \n",
       "1             NaN               NaN               NaN  \n",
       "2             NaN               NaN               NaN  \n",
       "3             NaN               NaN               NaN  \n",
       "4             NaN               NaN               NaN  "
      ]
     },
     "execution_count": 150,
     "metadata": {},
     "output_type": "execute_result"
    }
   ],
   "source": [
    "wplt.head()"
   ]
  },
  {
   "cell_type": "code",
   "execution_count": 112,
   "id": "bf16e22b",
   "metadata": {},
   "outputs": [],
   "source": [
    "electricos = concatenar(\"../data/electricos/\")"
   ]
  },
  {
   "cell_type": "code",
   "execution_count": 149,
   "id": "9352fd48",
   "metadata": {},
   "outputs": [
    {
     "data": {
      "text/html": [
       "<div>\n",
       "<style scoped>\n",
       "    .dataframe tbody tr th:only-of-type {\n",
       "        vertical-align: middle;\n",
       "    }\n",
       "\n",
       "    .dataframe tbody tr th {\n",
       "        vertical-align: top;\n",
       "    }\n",
       "\n",
       "    .dataframe thead th {\n",
       "        text-align: right;\n",
       "    }\n",
       "</style>\n",
       "<table border=\"1\" class=\"dataframe\">\n",
       "  <thead>\n",
       "    <tr style=\"text-align: right;\">\n",
       "      <th></th>\n",
       "      <th>Modelo</th>\n",
       "      <th>Clasificación Energética</th>\n",
       "      <th>Motorización</th>\n",
       "      <th>Categoría</th>\n",
       "      <th>MTMA (Kg)</th>\n",
       "      <th>Consumo Eléctrico (kWh/100 km)</th>\n",
       "      <th>Potencia eléctrica (kW)</th>\n",
       "      <th>Autonomía eléctrica (km)</th>\n",
       "      <th>Capacidad de la batería (kWh)</th>\n",
       "    </tr>\n",
       "  </thead>\n",
       "  <tbody>\n",
       "    <tr>\n",
       "      <th>0</th>\n",
       "      <td>Citroën Nuevo C4 BlueHDi 130 S&amp;S EAT8</td>\n",
       "      <td>NaN</td>\n",
       "      <td>Gasóleo</td>\n",
       "      <td>M1</td>\n",
       "      <td>1795</td>\n",
       "      <td>NaN</td>\n",
       "      <td>NaN</td>\n",
       "      <td>NaN</td>\n",
       "      <td>NaN</td>\n",
       "    </tr>\n",
       "    <tr>\n",
       "      <th>1</th>\n",
       "      <td>Citroën Nuevo C4 PureTech 100 S&amp;S 6v</td>\n",
       "      <td>NaN</td>\n",
       "      <td>Gasolina</td>\n",
       "      <td>M1</td>\n",
       "      <td>1690</td>\n",
       "      <td>NaN</td>\n",
       "      <td>NaN</td>\n",
       "      <td>NaN</td>\n",
       "      <td>NaN</td>\n",
       "    </tr>\n",
       "    <tr>\n",
       "      <th>2</th>\n",
       "      <td>Citroën Nuevo C4 PureTech 130 S&amp;S 6v</td>\n",
       "      <td>NaN</td>\n",
       "      <td>Gasolina</td>\n",
       "      <td>M2</td>\n",
       "      <td>1690</td>\n",
       "      <td>NaN</td>\n",
       "      <td>NaN</td>\n",
       "      <td>NaN</td>\n",
       "      <td>NaN</td>\n",
       "    </tr>\n",
       "    <tr>\n",
       "      <th>3</th>\n",
       "      <td>Citroën Nuevo C4 PureTech 130 S&amp;S EAT8</td>\n",
       "      <td>NaN</td>\n",
       "      <td>Gasolina</td>\n",
       "      <td>M1</td>\n",
       "      <td>1755</td>\n",
       "      <td>NaN</td>\n",
       "      <td>NaN</td>\n",
       "      <td>NaN</td>\n",
       "      <td>NaN</td>\n",
       "    </tr>\n",
       "    <tr>\n",
       "      <th>4</th>\n",
       "      <td>Citroën Nuevo C4 PureTech 155 EAT8 SHINE</td>\n",
       "      <td>NaN</td>\n",
       "      <td>Gasolina</td>\n",
       "      <td>M1</td>\n",
       "      <td>1760</td>\n",
       "      <td>NaN</td>\n",
       "      <td>NaN</td>\n",
       "      <td>NaN</td>\n",
       "      <td>NaN</td>\n",
       "    </tr>\n",
       "  </tbody>\n",
       "</table>\n",
       "</div>"
      ],
      "text/plain": [
       "                                     Modelo  Clasificación Energética  \\\n",
       "0     Citroën Nuevo C4 BlueHDi 130 S&S EAT8                       NaN   \n",
       "1      Citroën Nuevo C4 PureTech 100 S&S 6v                       NaN   \n",
       "2      Citroën Nuevo C4 PureTech 130 S&S 6v                       NaN   \n",
       "3    Citroën Nuevo C4 PureTech 130 S&S EAT8                       NaN   \n",
       "4  Citroën Nuevo C4 PureTech 155 EAT8 SHINE                       NaN   \n",
       "\n",
       "  Motorización Categoría  MTMA (Kg)  Consumo Eléctrico (kWh/100 km)  \\\n",
       "0      Gasóleo        M1       1795                             NaN   \n",
       "1     Gasolina        M1       1690                             NaN   \n",
       "2     Gasolina        M2       1690                             NaN   \n",
       "3     Gasolina        M1       1755                             NaN   \n",
       "4     Gasolina        M1       1760                             NaN   \n",
       "\n",
       "   Potencia eléctrica (kW)  Autonomía eléctrica (km)  \\\n",
       "0                      NaN                       NaN   \n",
       "1                      NaN                       NaN   \n",
       "2                      NaN                       NaN   \n",
       "3                      NaN                       NaN   \n",
       "4                      NaN                       NaN   \n",
       "\n",
       "   Capacidad de la batería (kWh)  \n",
       "0                            NaN  \n",
       "1                            NaN  \n",
       "2                            NaN  \n",
       "3                            NaN  \n",
       "4                            NaN  "
      ]
     },
     "execution_count": 149,
     "metadata": {},
     "output_type": "execute_result"
    }
   ],
   "source": [
    "electricos.head()"
   ]
  },
  {
   "cell_type": "code",
   "execution_count": 114,
   "id": "fb4ae24d",
   "metadata": {},
   "outputs": [
    {
     "data": {
      "text/plain": [
       "270"
      ]
     },
     "execution_count": 114,
     "metadata": {},
     "output_type": "execute_result"
    }
   ],
   "source": [
    "wplt.duplicated().sum()"
   ]
  },
  {
   "cell_type": "code",
   "execution_count": 115,
   "id": "f68681b3",
   "metadata": {},
   "outputs": [
    {
     "data": {
      "text/plain": [
       "346"
      ]
     },
     "execution_count": 115,
     "metadata": {},
     "output_type": "execute_result"
    }
   ],
   "source": [
    "electricos.duplicated().sum()"
   ]
  },
  {
   "cell_type": "code",
   "execution_count": 116,
   "id": "c526360e",
   "metadata": {},
   "outputs": [],
   "source": [
    "# Borrando duplicados\n",
    "wplt = wplt.drop_duplicates()\n",
    "electricos = electricos.drop_duplicates()"
   ]
  },
  {
   "cell_type": "code",
   "execution_count": 117,
   "id": "3de0e2e0",
   "metadata": {},
   "outputs": [
    {
     "data": {
      "text/plain": [
       "(16550, 9)"
      ]
     },
     "execution_count": 117,
     "metadata": {},
     "output_type": "execute_result"
    }
   ],
   "source": [
    "electricos.shape"
   ]
  },
  {
   "cell_type": "code",
   "execution_count": 118,
   "id": "0bc0290d",
   "metadata": {},
   "outputs": [
    {
     "data": {
      "text/plain": [
       "(16626, 6)"
      ]
     },
     "execution_count": 118,
     "metadata": {},
     "output_type": "execute_result"
    }
   ],
   "source": [
    "wplt.shape"
   ]
  },
  {
   "cell_type": "markdown",
   "id": "d1b6542a",
   "metadata": {},
   "source": [
    "**Merge por Modelo para unificar dfs**"
   ]
  },
  {
   "cell_type": "code",
   "execution_count": 119,
   "id": "26779a5f",
   "metadata": {},
   "outputs": [],
   "source": [
    "# Realizar el merge por la columna 'Modelo'\n",
    "df_combinado = pd.merge(wplt, electricos, on=['Modelo', 'Clasificación Energética'], how='outer') \n",
    "# El parámetro how='outer' indica que se realizará un \"outer join\", incluyendo todas las filas de ambos dataframes y rellenando con valores NaN donde no hay coincidencias."
   ]
  },
  {
   "cell_type": "code",
   "execution_count": 120,
   "id": "4e9be5d2",
   "metadata": {},
   "outputs": [
    {
     "data": {
      "text/plain": [
       "0"
      ]
     },
     "execution_count": 120,
     "metadata": {},
     "output_type": "execute_result"
    }
   ],
   "source": [
    "df_combinado.duplicated().sum()"
   ]
  },
  {
   "cell_type": "code",
   "execution_count": 121,
   "id": "b47ce52e",
   "metadata": {},
   "outputs": [
    {
     "data": {
      "text/plain": [
       "(17105, 13)"
      ]
     },
     "execution_count": 121,
     "metadata": {},
     "output_type": "execute_result"
    }
   ],
   "source": [
    "df_combinado.shape"
   ]
  },
  {
   "cell_type": "markdown",
   "id": "7f6edf18",
   "metadata": {},
   "source": [
    "**Leer un csv con un encoding raro**"
   ]
  },
  {
   "cell_type": "code",
   "execution_count": 122,
   "id": "7ddff102",
   "metadata": {},
   "outputs": [],
   "source": [
    "# Leyendo el csv de solo coches electricos del apartado \"vehiculos elegibles\"\n",
    "archivo_csv = '../data/Vehículos_elegibles_Programa_MOVES_III.csv'\n",
    "\n",
    "# Intenta diferentes codificaciones\n",
    "try:\n",
    "    df_elegibles = pd.read_csv(archivo_csv, encoding='utf-8', delimiter=';')\n",
    "except UnicodeDecodeError:\n",
    "    # Si falla con utf-8, intenta con otra codificación\n",
    "    df_elegibles = pd.read_csv(archivo_csv, encoding='latin-1', delimiter=';')"
   ]
  },
  {
   "cell_type": "code",
   "execution_count": 123,
   "id": "f6a6056e",
   "metadata": {},
   "outputs": [
    {
     "data": {
      "text/plain": [
       "(3073, 9)"
      ]
     },
     "execution_count": 123,
     "metadata": {},
     "output_type": "execute_result"
    }
   ],
   "source": [
    "df_elegibles.shape"
   ]
  },
  {
   "cell_type": "code",
   "execution_count": 148,
   "id": "0a91e898",
   "metadata": {},
   "outputs": [
    {
     "data": {
      "text/html": [
       "<div>\n",
       "<style scoped>\n",
       "    .dataframe tbody tr th:only-of-type {\n",
       "        vertical-align: middle;\n",
       "    }\n",
       "\n",
       "    .dataframe tbody tr th {\n",
       "        vertical-align: top;\n",
       "    }\n",
       "\n",
       "    .dataframe thead th {\n",
       "        text-align: right;\n",
       "    }\n",
       "</style>\n",
       "<table border=\"1\" class=\"dataframe\">\n",
       "  <thead>\n",
       "    <tr style=\"text-align: right;\">\n",
       "      <th></th>\n",
       "      <th>Modelo</th>\n",
       "      <th>Motorización</th>\n",
       "      <th>Categoría</th>\n",
       "      <th>Nº de Plazas</th>\n",
       "      <th>MTMA (Kg)</th>\n",
       "      <th>Potencia eléctrica (kW)</th>\n",
       "      <th>Consumo eléctrico (kWh/100km)</th>\n",
       "      <th>Capacidad de la batería (kWh)</th>\n",
       "      <th>Autonomía eléctrica (km)</th>\n",
       "    </tr>\n",
       "  </thead>\n",
       "  <tbody>\n",
       "    <tr>\n",
       "      <th>0</th>\n",
       "      <td>Abarth Abarth 500 BEV Nuevo Abarth 500e Scorpi...</td>\n",
       "      <td>Eléctricos puros</td>\n",
       "      <td>M1</td>\n",
       "      <td>4</td>\n",
       "      <td>1410</td>\n",
       "      <td>113.0</td>\n",
       "      <td>18.1</td>\n",
       "      <td>42.0</td>\n",
       "      <td>253</td>\n",
       "    </tr>\n",
       "    <tr>\n",
       "      <th>1</th>\n",
       "      <td>Abarth Abarth 500 BEV Nuevo Abarth Cabrio 500e...</td>\n",
       "      <td>Eléctricos puros</td>\n",
       "      <td>M1</td>\n",
       "      <td>4</td>\n",
       "      <td>1435</td>\n",
       "      <td>113.0</td>\n",
       "      <td>18.8</td>\n",
       "      <td>42.0</td>\n",
       "      <td>242</td>\n",
       "    </tr>\n",
       "    <tr>\n",
       "      <th>2</th>\n",
       "      <td>Addax MT15n 55 km/h Caja flatbed</td>\n",
       "      <td>Eléctricos puros</td>\n",
       "      <td>N1</td>\n",
       "      <td>2</td>\n",
       "      <td>1910</td>\n",
       "      <td>12.5</td>\n",
       "      <td>11.4</td>\n",
       "      <td>14.4</td>\n",
       "      <td>114</td>\n",
       "    </tr>\n",
       "    <tr>\n",
       "      <th>3</th>\n",
       "      <td>Addax MT15n 55 km/h Cargo</td>\n",
       "      <td>Eléctricos puros</td>\n",
       "      <td>N1</td>\n",
       "      <td>2</td>\n",
       "      <td>1910</td>\n",
       "      <td>12.5</td>\n",
       "      <td>11.4</td>\n",
       "      <td>14.4</td>\n",
       "      <td>114</td>\n",
       "    </tr>\n",
       "    <tr>\n",
       "      <th>4</th>\n",
       "      <td>Addax MT15n 55 km/h Chasis</td>\n",
       "      <td>Eléctricos puros</td>\n",
       "      <td>N1</td>\n",
       "      <td>2</td>\n",
       "      <td>1910</td>\n",
       "      <td>12.5</td>\n",
       "      <td>11.4</td>\n",
       "      <td>14.4</td>\n",
       "      <td>114</td>\n",
       "    </tr>\n",
       "  </tbody>\n",
       "</table>\n",
       "</div>"
      ],
      "text/plain": [
       "                                              Modelo      Motorización  \\\n",
       "0  Abarth Abarth 500 BEV Nuevo Abarth 500e Scorpi...  Eléctricos puros   \n",
       "1  Abarth Abarth 500 BEV Nuevo Abarth Cabrio 500e...  Eléctricos puros   \n",
       "2                  Addax MT15n 55 km/h Caja flatbed   Eléctricos puros   \n",
       "3                         Addax MT15n 55 km/h Cargo   Eléctricos puros   \n",
       "4                        Addax MT15n 55 km/h Chasis   Eléctricos puros   \n",
       "\n",
       "  Categoría  Nº de Plazas  MTMA (Kg)  Potencia eléctrica (kW)  \\\n",
       "0        M1             4       1410                    113.0   \n",
       "1        M1             4       1435                    113.0   \n",
       "2        N1             2       1910                     12.5   \n",
       "3        N1             2       1910                     12.5   \n",
       "4        N1             2       1910                     12.5   \n",
       "\n",
       "   Consumo eléctrico (kWh/100km)  Capacidad de la batería (kWh)  \\\n",
       "0                           18.1                           42.0   \n",
       "1                           18.8                           42.0   \n",
       "2                           11.4                           14.4   \n",
       "3                           11.4                           14.4   \n",
       "4                           11.4                           14.4   \n",
       "\n",
       "   Autonomía eléctrica (km)  \n",
       "0                       253  \n",
       "1                       242  \n",
       "2                       114  \n",
       "3                       114  \n",
       "4                       114  "
      ]
     },
     "execution_count": 148,
     "metadata": {},
     "output_type": "execute_result"
    }
   ],
   "source": [
    "df_elegibles.head()"
   ]
  },
  {
   "cell_type": "code",
   "execution_count": 141,
   "id": "77ed85a4",
   "metadata": {},
   "outputs": [],
   "source": [
    "# Renombrar la columna 'MTMA' a 'MTMA (Kg)'\n",
    "df_elegibles.rename(columns={'MTMA': 'MTMA (Kg)'}, inplace=True)"
   ]
  },
  {
   "cell_type": "markdown",
   "id": "6f3d49fb",
   "metadata": {},
   "source": [
    "**Concat final que unifica todo el escrapeo**"
   ]
  },
  {
   "cell_type": "code",
   "execution_count": 143,
   "id": "999597df",
   "metadata": {},
   "outputs": [],
   "source": [
    "# Concatenar por filas\n",
    "df_concatenado = pd.concat([df_combinado, df_elegibles], ignore_index=True, sort=False)"
   ]
  },
  {
   "cell_type": "code",
   "execution_count": 144,
   "id": "e51f4324",
   "metadata": {},
   "outputs": [
    {
     "data": {
      "text/plain": [
       "0"
      ]
     },
     "execution_count": 144,
     "metadata": {},
     "output_type": "execute_result"
    }
   ],
   "source": [
    "df_concatenado.duplicated().sum()"
   ]
  },
  {
   "cell_type": "code",
   "execution_count": 145,
   "id": "47d167ed",
   "metadata": {},
   "outputs": [
    {
     "data": {
      "text/plain": [
       "Index(['Modelo', 'Clasificación Energética', 'Consumo Mínimo',\n",
       "       'Consumo Máximo', 'Emisiones Mínimo', 'Emisiones Máximo',\n",
       "       'Motorización', 'Categoría', 'MTMA (Kg)',\n",
       "       'Consumo Eléctrico (kWh/100 km)', 'Potencia eléctrica (kW)',\n",
       "       'Autonomía eléctrica (km)', 'Capacidad de la batería (kWh)',\n",
       "       'Nº de Plazas', 'Consumo eléctrico (kWh/100km)'],\n",
       "      dtype='object')"
      ]
     },
     "execution_count": 145,
     "metadata": {},
     "output_type": "execute_result"
    }
   ],
   "source": [
    "df_concatenado.columns"
   ]
  },
  {
   "cell_type": "code",
   "execution_count": 147,
   "id": "bdb6474d",
   "metadata": {},
   "outputs": [
    {
     "data": {
      "text/html": [
       "<div>\n",
       "<style scoped>\n",
       "    .dataframe tbody tr th:only-of-type {\n",
       "        vertical-align: middle;\n",
       "    }\n",
       "\n",
       "    .dataframe tbody tr th {\n",
       "        vertical-align: top;\n",
       "    }\n",
       "\n",
       "    .dataframe thead th {\n",
       "        text-align: right;\n",
       "    }\n",
       "</style>\n",
       "<table border=\"1\" class=\"dataframe\">\n",
       "  <thead>\n",
       "    <tr style=\"text-align: right;\">\n",
       "      <th></th>\n",
       "      <th>Modelo</th>\n",
       "      <th>Clasificación Energética</th>\n",
       "      <th>Consumo Mínimo</th>\n",
       "      <th>Consumo Máximo</th>\n",
       "      <th>Emisiones Mínimo</th>\n",
       "      <th>Emisiones Máximo</th>\n",
       "      <th>Motorización</th>\n",
       "      <th>Categoría</th>\n",
       "      <th>MTMA (Kg)</th>\n",
       "      <th>Consumo Eléctrico (kWh/100 km)</th>\n",
       "      <th>Potencia eléctrica (kW)</th>\n",
       "      <th>Autonomía eléctrica (km)</th>\n",
       "      <th>Capacidad de la batería (kWh)</th>\n",
       "      <th>Nº de Plazas</th>\n",
       "      <th>Consumo eléctrico (kWh/100km)</th>\n",
       "    </tr>\n",
       "  </thead>\n",
       "  <tbody>\n",
       "    <tr>\n",
       "      <th>0</th>\n",
       "      <td>ALKE ATX 340 EDH Litio 20kwh</td>\n",
       "      <td>NaN</td>\n",
       "      <td>NaN</td>\n",
       "      <td>NaN</td>\n",
       "      <td>NaN</td>\n",
       "      <td>NaN</td>\n",
       "      <td>Eléctricos puros</td>\n",
       "      <td>N1</td>\n",
       "      <td>2510.0</td>\n",
       "      <td>9.5</td>\n",
       "      <td>14.0</td>\n",
       "      <td>150.0</td>\n",
       "      <td>20.0</td>\n",
       "      <td>NaN</td>\n",
       "      <td>NaN</td>\n",
       "    </tr>\n",
       "    <tr>\n",
       "      <th>1</th>\n",
       "      <td>ALKE ATX 340 EDH plomo acido</td>\n",
       "      <td>NaN</td>\n",
       "      <td>NaN</td>\n",
       "      <td>NaN</td>\n",
       "      <td>NaN</td>\n",
       "      <td>NaN</td>\n",
       "      <td>Eléctricos puros</td>\n",
       "      <td>N1</td>\n",
       "      <td>2510.0</td>\n",
       "      <td>13.0</td>\n",
       "      <td>14.0</td>\n",
       "      <td>90.0</td>\n",
       "      <td>14.4</td>\n",
       "      <td>NaN</td>\n",
       "      <td>NaN</td>\n",
       "    </tr>\n",
       "    <tr>\n",
       "      <th>2</th>\n",
       "      <td>ALKE ATX 340 EH Litio 10 kwh</td>\n",
       "      <td>NaN</td>\n",
       "      <td>NaN</td>\n",
       "      <td>NaN</td>\n",
       "      <td>NaN</td>\n",
       "      <td>NaN</td>\n",
       "      <td>Eléctricos puros</td>\n",
       "      <td>N1</td>\n",
       "      <td>2510.0</td>\n",
       "      <td>9.5</td>\n",
       "      <td>14.0</td>\n",
       "      <td>80.0</td>\n",
       "      <td>10.0</td>\n",
       "      <td>NaN</td>\n",
       "      <td>NaN</td>\n",
       "    </tr>\n",
       "    <tr>\n",
       "      <th>3</th>\n",
       "      <td>ALKE ATX 340 EH Litio 20kwh</td>\n",
       "      <td>NaN</td>\n",
       "      <td>NaN</td>\n",
       "      <td>NaN</td>\n",
       "      <td>NaN</td>\n",
       "      <td>NaN</td>\n",
       "      <td>Eléctricos puros</td>\n",
       "      <td>N1</td>\n",
       "      <td>2510.0</td>\n",
       "      <td>9.5</td>\n",
       "      <td>14.0</td>\n",
       "      <td>150.0</td>\n",
       "      <td>20.0</td>\n",
       "      <td>NaN</td>\n",
       "      <td>NaN</td>\n",
       "    </tr>\n",
       "    <tr>\n",
       "      <th>4</th>\n",
       "      <td>ALKE ATX 340 EH plomo acido</td>\n",
       "      <td>NaN</td>\n",
       "      <td>NaN</td>\n",
       "      <td>NaN</td>\n",
       "      <td>NaN</td>\n",
       "      <td>NaN</td>\n",
       "      <td>Eléctricos puros</td>\n",
       "      <td>N1</td>\n",
       "      <td>2510.0</td>\n",
       "      <td>13.0</td>\n",
       "      <td>14.0</td>\n",
       "      <td>90.0</td>\n",
       "      <td>14.4</td>\n",
       "      <td>NaN</td>\n",
       "      <td>NaN</td>\n",
       "    </tr>\n",
       "  </tbody>\n",
       "</table>\n",
       "</div>"
      ],
      "text/plain": [
       "                         Modelo  Clasificación Energética  Consumo Mínimo  \\\n",
       "0  ALKE ATX 340 EDH Litio 20kwh                       NaN             NaN   \n",
       "1  ALKE ATX 340 EDH plomo acido                       NaN             NaN   \n",
       "2  ALKE ATX 340 EH Litio 10 kwh                       NaN             NaN   \n",
       "3   ALKE ATX 340 EH Litio 20kwh                       NaN             NaN   \n",
       "4   ALKE ATX 340 EH plomo acido                       NaN             NaN   \n",
       "\n",
       "   Consumo Máximo  Emisiones Mínimo  Emisiones Máximo      Motorización  \\\n",
       "0             NaN               NaN               NaN  Eléctricos puros   \n",
       "1             NaN               NaN               NaN  Eléctricos puros   \n",
       "2             NaN               NaN               NaN  Eléctricos puros   \n",
       "3             NaN               NaN               NaN  Eléctricos puros   \n",
       "4             NaN               NaN               NaN  Eléctricos puros   \n",
       "\n",
       "  Categoría  MTMA (Kg)  Consumo Eléctrico (kWh/100 km)  \\\n",
       "0        N1     2510.0                             9.5   \n",
       "1        N1     2510.0                            13.0   \n",
       "2        N1     2510.0                             9.5   \n",
       "3        N1     2510.0                             9.5   \n",
       "4        N1     2510.0                            13.0   \n",
       "\n",
       "   Potencia eléctrica (kW)  Autonomía eléctrica (km)  \\\n",
       "0                     14.0                     150.0   \n",
       "1                     14.0                      90.0   \n",
       "2                     14.0                      80.0   \n",
       "3                     14.0                     150.0   \n",
       "4                     14.0                      90.0   \n",
       "\n",
       "   Capacidad de la batería (kWh)  Nº de Plazas  Consumo eléctrico (kWh/100km)  \n",
       "0                           20.0           NaN                            NaN  \n",
       "1                           14.4           NaN                            NaN  \n",
       "2                           10.0           NaN                            NaN  \n",
       "3                           20.0           NaN                            NaN  \n",
       "4                           14.4           NaN                            NaN  "
      ]
     },
     "execution_count": 147,
     "metadata": {},
     "output_type": "execute_result"
    }
   ],
   "source": [
    "df_concatenado.head()"
   ]
  },
  {
   "cell_type": "code",
   "execution_count": 151,
   "id": "94a67292",
   "metadata": {},
   "outputs": [
    {
     "data": {
      "text/plain": [
       "(20178, 15)"
      ]
     },
     "execution_count": 151,
     "metadata": {},
     "output_type": "execute_result"
    }
   ],
   "source": [
    "df_concatenado.shape"
   ]
  },
  {
   "cell_type": "code",
   "execution_count": 154,
   "id": "542e7255",
   "metadata": {},
   "outputs": [],
   "source": [
    "df_concatenado.to_csv(\"../data/df_coches_escrapeo.csv\", index=False)"
   ]
  }
 ],
 "metadata": {
  "kernelspec": {
   "display_name": "Python 3 (ipykernel)",
   "language": "python",
   "name": "python3"
  },
  "language_info": {
   "codemirror_mode": {
    "name": "ipython",
    "version": 3
   },
   "file_extension": ".py",
   "mimetype": "text/x-python",
   "name": "python",
   "nbconvert_exporter": "python",
   "pygments_lexer": "ipython3",
   "version": "3.11.5"
  }
 },
 "nbformat": 4,
 "nbformat_minor": 5
}
